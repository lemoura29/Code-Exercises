{
 "cells": [
  {
   "cell_type": "code",
   "execution_count": 1,
   "id": "064b1327",
   "metadata": {},
   "outputs": [],
   "source": [
    "import pandas as pd\n",
    "from tabulate import tabulate\n",
    "import numpy as np\n",
    "import seaborn as sns\n",
    "import matplotlib.dates as mdates4\n",
    "from matplotlib import pyplot as plt\n",
    "from matplotlib.ticker import FormatStrFormatter\n"
   ]
  },
  {
   "cell_type": "code",
   "execution_count": 2,
   "id": "ff935338",
   "metadata": {},
   "outputs": [],
   "source": [
    "xl = pd.ExcelFile('Data/Transactions.xlsx');"
   ]
  },
  {
   "cell_type": "code",
   "execution_count": 3,
   "id": "afbc5639",
   "metadata": {},
   "outputs": [],
   "source": [
    "df = xl.parse('Credit-Card-Transactions')"
   ]
  },
  {
   "cell_type": "code",
   "execution_count": 4,
   "id": "db6514ea",
   "metadata": {},
   "outputs": [],
   "source": [
    "df[['City','Country']]=df.City.str.split(',',expand=True)"
   ]
  },
  {
   "cell_type": "code",
   "execution_count": 5,
   "id": "921b25cb",
   "metadata": {},
   "outputs": [],
   "source": [
    "df.rename(columns={'Exp Type':'Exp_Type'}, inplace=True)\n",
    "df.rename(columns={'Card Type':'Card_Type'}, inplace=True)"
   ]
  },
  {
   "cell_type": "markdown",
   "id": "c43f1693",
   "metadata": {},
   "source": [
    "# REPORT - Potential transaction frauds\n"
   ]
  },
  {
   "cell_type": "markdown",
   "id": "7b209794",
   "metadata": {},
   "source": [
    "#### The purpose of this report is to find possible transactional fraud through data analysis.\n",
    "We have assumed that transactions greater than 95% of others and transactions performed more than three times with the same Day, City, Card Type, and Gender are possible fraudulent transactions."
   ]
  },
  {
   "cell_type": "markdown",
   "id": "3fa25414",
   "metadata": {},
   "source": [
    " "
   ]
  },
  {
   "cell_type": "markdown",
   "id": "e9eb1eb6",
   "metadata": {},
   "source": [
    "We calculate the 95th percentile by Expense Type, to find the number where 95% of all other numbers are less than it."
   ]
  },
  {
   "cell_type": "code",
   "execution_count": 6,
   "id": "065996b8",
   "metadata": {},
   "outputs": [
    {
     "data": {
      "text/html": [
       "<div>\n",
       "<style scoped>\n",
       "    .dataframe tbody tr th:only-of-type {\n",
       "        vertical-align: middle;\n",
       "    }\n",
       "\n",
       "    .dataframe tbody tr th {\n",
       "        vertical-align: top;\n",
       "    }\n",
       "\n",
       "    .dataframe thead th {\n",
       "        text-align: right;\n",
       "    }\n",
       "</style>\n",
       "<table border=\"1\" class=\"dataframe\">\n",
       "  <thead>\n",
       "    <tr style=\"text-align: right;\">\n",
       "      <th></th>\n",
       "      <th>Exp_Type</th>\n",
       "      <th>Quartile_95</th>\n",
       "    </tr>\n",
       "  </thead>\n",
       "  <tbody>\n",
       "    <tr>\n",
       "      <th>0</th>\n",
       "      <td>Bills</td>\n",
       "      <td>401493.35</td>\n",
       "    </tr>\n",
       "    <tr>\n",
       "      <th>1</th>\n",
       "      <td>Entertainment</td>\n",
       "      <td>285028.80</td>\n",
       "    </tr>\n",
       "    <tr>\n",
       "      <th>2</th>\n",
       "      <td>Food</td>\n",
       "      <td>285255.40</td>\n",
       "    </tr>\n",
       "    <tr>\n",
       "      <th>3</th>\n",
       "      <td>Fuel</td>\n",
       "      <td>284327.60</td>\n",
       "    </tr>\n",
       "    <tr>\n",
       "      <th>4</th>\n",
       "      <td>Grocery</td>\n",
       "      <td>284572.25</td>\n",
       "    </tr>\n",
       "    <tr>\n",
       "      <th>5</th>\n",
       "      <td>Travel</td>\n",
       "      <td>281222.25</td>\n",
       "    </tr>\n",
       "  </tbody>\n",
       "</table>\n",
       "</div>"
      ],
      "text/plain": [
       "        Exp_Type  Quartile_95\n",
       "0          Bills    401493.35\n",
       "1  Entertainment    285028.80\n",
       "2           Food    285255.40\n",
       "3           Fuel    284327.60\n",
       "4        Grocery    284572.25\n",
       "5         Travel    281222.25"
      ]
     },
     "execution_count": 6,
     "metadata": {},
     "output_type": "execute_result"
    }
   ],
   "source": [
    "quatile_95 = df.groupby('Exp_Type')['Amount'].quantile(0.95).reset_index()\n",
    "quatile_95.rename(columns={'Amount':'Quartile_95'}, inplace=True)\n",
    "quatile_95"
   ]
  },
  {
   "cell_type": "markdown",
   "id": "3015236e",
   "metadata": {},
   "source": [
    "We get the following list of potential fraudulent transactions when we apply our rule:"
   ]
  },
  {
   "cell_type": "code",
   "execution_count": 7,
   "id": "e3e1b340",
   "metadata": {},
   "outputs": [],
   "source": [
    "df_fraud = df.merge(quatile_95, left_on='Exp_Type', right_on='Exp_Type')\n",
    "df1 = df_fraud[(df_fraud.Amount > df_fraud.Quartile_95)]\n",
    "df1 = df1[['City','Date','Card_Type','Exp_Type','Gender','Amount']].sort_values(by=[ 'Amount', 'Date', 'City', 'Exp_Type'], ascending=False)"
   ]
  },
  {
   "cell_type": "code",
   "execution_count": 8,
   "id": "3b5f4aa9",
   "metadata": {},
   "outputs": [
    {
     "data": {
      "text/html": [
       "<div>\n",
       "<style scoped>\n",
       "    .dataframe tbody tr th:only-of-type {\n",
       "        vertical-align: middle;\n",
       "    }\n",
       "\n",
       "    .dataframe tbody tr th {\n",
       "        vertical-align: top;\n",
       "    }\n",
       "\n",
       "    .dataframe thead th {\n",
       "        text-align: right;\n",
       "    }\n",
       "</style>\n",
       "<table border=\"1\" class=\"dataframe\">\n",
       "  <thead>\n",
       "    <tr style=\"text-align: right;\">\n",
       "      <th></th>\n",
       "      <th>City</th>\n",
       "      <th>Date</th>\n",
       "      <th>Card_Type</th>\n",
       "      <th>Exp_Type</th>\n",
       "      <th>Gender</th>\n",
       "      <th>Amount</th>\n",
       "    </tr>\n",
       "  </thead>\n",
       "  <tbody>\n",
       "    <tr>\n",
       "      <th>80</th>\n",
       "      <td>Greater Mumbai</td>\n",
       "      <td>2014-10-14</td>\n",
       "      <td>Platinum</td>\n",
       "      <td>Bills</td>\n",
       "      <td>F</td>\n",
       "      <td>998077</td>\n",
       "    </tr>\n",
       "    <tr>\n",
       "      <th>134</th>\n",
       "      <td>Delhi</td>\n",
       "      <td>2013-10-27</td>\n",
       "      <td>Gold</td>\n",
       "      <td>Bills</td>\n",
       "      <td>F</td>\n",
       "      <td>996754</td>\n",
       "    </tr>\n",
       "    <tr>\n",
       "      <th>254</th>\n",
       "      <td>Ahmedabad</td>\n",
       "      <td>2015-04-17</td>\n",
       "      <td>Gold</td>\n",
       "      <td>Bills</td>\n",
       "      <td>F</td>\n",
       "      <td>996291</td>\n",
       "    </tr>\n",
       "    <tr>\n",
       "      <th>183</th>\n",
       "      <td>Ahmedabad</td>\n",
       "      <td>2014-08-27</td>\n",
       "      <td>Platinum</td>\n",
       "      <td>Bills</td>\n",
       "      <td>F</td>\n",
       "      <td>995634</td>\n",
       "    </tr>\n",
       "    <tr>\n",
       "      <th>330</th>\n",
       "      <td>Delhi</td>\n",
       "      <td>2014-06-07</td>\n",
       "      <td>Signature</td>\n",
       "      <td>Bills</td>\n",
       "      <td>F</td>\n",
       "      <td>994537</td>\n",
       "    </tr>\n",
       "    <tr>\n",
       "      <th>...</th>\n",
       "      <td>...</td>\n",
       "      <td>...</td>\n",
       "      <td>...</td>\n",
       "      <td>...</td>\n",
       "      <td>...</td>\n",
       "      <td>...</td>\n",
       "    </tr>\n",
       "    <tr>\n",
       "      <th>23816</th>\n",
       "      <td>Ballari</td>\n",
       "      <td>2014-10-15</td>\n",
       "      <td>Platinum</td>\n",
       "      <td>Fuel</td>\n",
       "      <td>F</td>\n",
       "      <td>284354</td>\n",
       "    </tr>\n",
       "    <tr>\n",
       "      <th>25567</th>\n",
       "      <td>Jaipur</td>\n",
       "      <td>2014-12-24</td>\n",
       "      <td>Gold</td>\n",
       "      <td>Travel</td>\n",
       "      <td>M</td>\n",
       "      <td>282876</td>\n",
       "    </tr>\n",
       "    <tr>\n",
       "      <th>25860</th>\n",
       "      <td>Jaipur</td>\n",
       "      <td>2015-05-09</td>\n",
       "      <td>Silver</td>\n",
       "      <td>Travel</td>\n",
       "      <td>F</td>\n",
       "      <td>282385</td>\n",
       "    </tr>\n",
       "    <tr>\n",
       "      <th>25562</th>\n",
       "      <td>Lucknow</td>\n",
       "      <td>2015-03-26</td>\n",
       "      <td>Silver</td>\n",
       "      <td>Travel</td>\n",
       "      <td>F</td>\n",
       "      <td>281922</td>\n",
       "    </tr>\n",
       "    <tr>\n",
       "      <th>25749</th>\n",
       "      <td>Kanpur</td>\n",
       "      <td>2014-03-22</td>\n",
       "      <td>Gold</td>\n",
       "      <td>Travel</td>\n",
       "      <td>F</td>\n",
       "      <td>281830</td>\n",
       "    </tr>\n",
       "  </tbody>\n",
       "</table>\n",
       "<p>1305 rows × 6 columns</p>\n",
       "</div>"
      ],
      "text/plain": [
       "                 City       Date  Card_Type Exp_Type Gender  Amount\n",
       "80     Greater Mumbai 2014-10-14   Platinum    Bills      F  998077\n",
       "134             Delhi 2013-10-27       Gold    Bills      F  996754\n",
       "254         Ahmedabad 2015-04-17       Gold    Bills      F  996291\n",
       "183         Ahmedabad 2014-08-27   Platinum    Bills      F  995634\n",
       "330             Delhi 2014-06-07  Signature    Bills      F  994537\n",
       "...               ...        ...        ...      ...    ...     ...\n",
       "23816         Ballari 2014-10-15   Platinum     Fuel      F  284354\n",
       "25567          Jaipur 2014-12-24       Gold   Travel      M  282876\n",
       "25860          Jaipur 2015-05-09     Silver   Travel      F  282385\n",
       "25562         Lucknow 2015-03-26     Silver   Travel      F  281922\n",
       "25749          Kanpur 2014-03-22       Gold   Travel      F  281830\n",
       "\n",
       "[1305 rows x 6 columns]"
      ]
     },
     "execution_count": 8,
     "metadata": {},
     "output_type": "execute_result"
    }
   ],
   "source": [
    "df1"
   ]
  },
  {
   "cell_type": "markdown",
   "id": "f3da9f07",
   "metadata": {},
   "source": [
    "Through the graph we can see in what kind of expenses these transactions were made."
   ]
  },
  {
   "cell_type": "code",
   "execution_count": 18,
   "id": "12d9c28d",
   "metadata": {},
   "outputs": [
    {
     "data": {
      "image/png": "[encoded data removed]",
      "text/plain": [
       "<Figure size 1152x576 with 1 Axes>"
      ]
     },
     "metadata": {},
     "output_type": "display_data"
    }
   ],
   "source": [
    "explode = (0.05, 0.05, 0.05, 0.05, 0.05, 0.05)\n",
    "plt.figure(figsize=(16,8))\n",
    "\n",
    "df1.groupby(['Exp_Type'])['Amount'].count().plot(\n",
    "    kind='pie', autopct='%1.0f%%', explode=explode)\n",
    "plt.show()"
   ]
  },
  {
   "cell_type": "markdown",
   "id": "a06b5630",
   "metadata": {},
   "source": [
    "We also observe that most transactions are between 250 and 500 thousand dollars."
   ]
  },
  {
   "cell_type": "code",
   "execution_count": 28,
   "id": "be7b3b89",
   "metadata": {},
   "outputs": [
    {
     "data": {
      "image/png": "[encoded data removed]",
      "text/plain": [
       "<Figure size 1152x576 with 1 Axes>"
      ]
     },
     "metadata": {
      "needs_background": "light"
     },
     "output_type": "display_data"
    }
   ],
   "source": [
    "plt.figure(figsize=(16,8))\n",
    "df1['Amount-Range'] = df1['Amount'].apply(lambda x: 'Less than 250K ' if x < 200000 else ('Between 250 e 500 k' if (x >= 200000 and x <= 500000) else ('Between 500 e 900K' if (x >= 500000 and x <= 900000) else 'Bigger than 900 K')))\n",
    "df1.groupby('Amount-Range')['Amount'].count().plot(kind='bar', color='midnightblue')\n",
    "plt.show()"
   ]
  },
  {
   "cell_type": "code",
   "execution_count": null,
   "id": "a6f1001c",
   "metadata": {},
   "outputs": [],
   "source": []
  },
  {
   "cell_type": "markdown",
   "id": "601f7df3",
   "metadata": {},
   "source": [
    "### Repeated transactions:"
   ]
  },
  {
   "cell_type": "markdown",
   "id": "74bca1fd",
   "metadata": {},
   "source": [
    "Now when analyzing transactions repeated three times on the same Day, City, Card Type, and Gender we get:\n"
   ]
  },
  {
   "cell_type": "code",
   "execution_count": 39,
   "id": "5c3954bd",
   "metadata": {},
   "outputs": [
    {
     "data": {
      "text/html": [
       "<div>\n",
       "<style scoped>\n",
       "    .dataframe tbody tr th:only-of-type {\n",
       "        vertical-align: middle;\n",
       "    }\n",
       "\n",
       "    .dataframe tbody tr th {\n",
       "        vertical-align: top;\n",
       "    }\n",
       "\n",
       "    .dataframe thead th {\n",
       "        text-align: right;\n",
       "    }\n",
       "</style>\n",
       "<table border=\"1\" class=\"dataframe\">\n",
       "  <thead>\n",
       "    <tr style=\"text-align: right;\">\n",
       "      <th></th>\n",
       "      <th>City</th>\n",
       "      <th>Date</th>\n",
       "      <th>Card_Type</th>\n",
       "      <th>Gender</th>\n",
       "      <th>count</th>\n",
       "      <th>sum</th>\n",
       "    </tr>\n",
       "  </thead>\n",
       "  <tbody>\n",
       "    <tr>\n",
       "      <th>3413</th>\n",
       "      <td>Bengaluru</td>\n",
       "      <td>2014-02-08</td>\n",
       "      <td>Silver</td>\n",
       "      <td>F</td>\n",
       "      <td>6</td>\n",
       "      <td>1104994</td>\n",
       "    </tr>\n",
       "    <tr>\n",
       "      <th>9173</th>\n",
       "      <td>Greater Mumbai</td>\n",
       "      <td>2013-10-13</td>\n",
       "      <td>Silver</td>\n",
       "      <td>F</td>\n",
       "      <td>5</td>\n",
       "      <td>1505006</td>\n",
       "    </tr>\n",
       "    <tr>\n",
       "      <th>1565</th>\n",
       "      <td>Ahmedabad</td>\n",
       "      <td>2014-10-07</td>\n",
       "      <td>Silver</td>\n",
       "      <td>F</td>\n",
       "      <td>5</td>\n",
       "      <td>1486985</td>\n",
       "    </tr>\n",
       "    <tr>\n",
       "      <th>3803</th>\n",
       "      <td>Bengaluru</td>\n",
       "      <td>2014-05-10</td>\n",
       "      <td>Signature</td>\n",
       "      <td>F</td>\n",
       "      <td>5</td>\n",
       "      <td>1126178</td>\n",
       "    </tr>\n",
       "    <tr>\n",
       "      <th>1359</th>\n",
       "      <td>Ahmedabad</td>\n",
       "      <td>2014-08-18</td>\n",
       "      <td>Silver</td>\n",
       "      <td>F</td>\n",
       "      <td>5</td>\n",
       "      <td>1024854</td>\n",
       "    </tr>\n",
       "    <tr>\n",
       "      <th>...</th>\n",
       "      <td>...</td>\n",
       "      <td>...</td>\n",
       "      <td>...</td>\n",
       "      <td>...</td>\n",
       "      <td>...</td>\n",
       "      <td>...</td>\n",
       "    </tr>\n",
       "    <tr>\n",
       "      <th>168</th>\n",
       "      <td>Ahmedabad</td>\n",
       "      <td>2013-10-31</td>\n",
       "      <td>Silver</td>\n",
       "      <td>F</td>\n",
       "      <td>4</td>\n",
       "      <td>240297</td>\n",
       "    </tr>\n",
       "    <tr>\n",
       "      <th>1743</th>\n",
       "      <td>Ahmedabad</td>\n",
       "      <td>2014-11-19</td>\n",
       "      <td>Gold</td>\n",
       "      <td>F</td>\n",
       "      <td>4</td>\n",
       "      <td>224606</td>\n",
       "    </tr>\n",
       "    <tr>\n",
       "      <th>7309</th>\n",
       "      <td>Delhi</td>\n",
       "      <td>2014-05-10</td>\n",
       "      <td>Silver</td>\n",
       "      <td>M</td>\n",
       "      <td>4</td>\n",
       "      <td>187554</td>\n",
       "    </tr>\n",
       "    <tr>\n",
       "      <th>6797</th>\n",
       "      <td>Delhi</td>\n",
       "      <td>2014-01-01</td>\n",
       "      <td>Signature</td>\n",
       "      <td>M</td>\n",
       "      <td>4</td>\n",
       "      <td>158216</td>\n",
       "    </tr>\n",
       "    <tr>\n",
       "      <th>1147</th>\n",
       "      <td>Ahmedabad</td>\n",
       "      <td>2014-06-29</td>\n",
       "      <td>Signature</td>\n",
       "      <td>F</td>\n",
       "      <td>4</td>\n",
       "      <td>76428</td>\n",
       "    </tr>\n",
       "  </tbody>\n",
       "</table>\n",
       "<p>133 rows × 6 columns</p>\n",
       "</div>"
      ],
      "text/plain": [
       "                City       Date  Card_Type Gender  count      sum\n",
       "3413       Bengaluru 2014-02-08     Silver      F      6  1104994\n",
       "9173  Greater Mumbai 2013-10-13     Silver      F      5  1505006\n",
       "1565       Ahmedabad 2014-10-07     Silver      F      5  1486985\n",
       "3803       Bengaluru 2014-05-10  Signature      F      5  1126178\n",
       "1359       Ahmedabad 2014-08-18     Silver      F      5  1024854\n",
       "...              ...        ...        ...    ...    ...      ...\n",
       "168        Ahmedabad 2013-10-31     Silver      F      4   240297\n",
       "1743       Ahmedabad 2014-11-19       Gold      F      4   224606\n",
       "7309           Delhi 2014-05-10     Silver      M      4   187554\n",
       "6797           Delhi 2014-01-01  Signature      M      4   158216\n",
       "1147       Ahmedabad 2014-06-29  Signature      F      4    76428\n",
       "\n",
       "[133 rows x 6 columns]"
      ]
     },
     "execution_count": 39,
     "metadata": {},
     "output_type": "execute_result"
    }
   ],
   "source": [
    "repeat = df.groupby([\"City\", \"Date\", \"Card_Type\", \"Gender\"]).Amount.agg(count='count', sum='sum').reset_index().sort_values(by=['count','sum'], ascending=False)\n",
    "\n",
    "repeat.query('count > 3')"
   ]
  },
  {
   "cell_type": "markdown",
   "id": "e9a28075",
   "metadata": {},
   "source": [
    "We can see that there is no difference between the types of cards used for these transactions."
   ]
  },
  {
   "cell_type": "code",
   "execution_count": 46,
   "id": "7c9b1be8",
   "metadata": {},
   "outputs": [
    {
     "data": {
      "image/png": "[encoded data removed]",
      "text/plain": [
       "<Figure size 1152x576 with 1 Axes>"
      ]
     },
     "metadata": {},
     "output_type": "display_data"
    }
   ],
   "source": [
    "\n",
    "plt.figure(figsize=(16,8))\n",
    "\n",
    "repeat.groupby(['Card_Type'])['count'].count().plot(\n",
    "    kind='pie', autopct='%1.0f%%', colors=['steelblue','azure','skyblue','navy'])\n",
    "plt.show()"
   ]
  }
 ],
 "metadata": {
  "kernelspec": {
   "display_name": "Python 3 (ipykernel)",
   "language": "python",
   "name": "python3"
  },
  "language_info": {
   "codemirror_mode": {
    "name": "ipython",
    "version": 3
   },
   "file_extension": ".py",
   "mimetype": "text/x-python",
   "name": "python",
   "nbconvert_exporter": "python",
   "pygments_lexer": "ipython3",
   "version": "3.9.7"
  }
 },
 "nbformat": 4,
 "nbformat_minor": 5
}
